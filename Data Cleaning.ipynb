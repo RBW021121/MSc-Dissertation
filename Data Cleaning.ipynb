{
 "cells": [
  {
   "cell_type": "code",
   "execution_count": null,
   "id": "6addcbee",
   "metadata": {},
   "outputs": [
    {
     "name": "stderr",
     "output_type": "stream",
     "text": [
      "Cloning into 'MSc-Dissertation'...\n"
     ]
    }
   ],
   "source": [
    "# Clone the repository containing the MSc Dissertation code\n",
    "!git clone https://github.com/RBW021121/MSc-Dissertation.git"
   ]
  },
  {
   "cell_type": "code",
   "execution_count": null,
   "id": "ceb0d09f",
   "metadata": {},
   "outputs": [
    {
     "name": "stdout",
     "output_type": "stream",
     "text": [
      "Requirement already satisfied: pandas in c:\\users\\lenovo\\desktop\\dissertaion\\code\\.venv\\lib\\site-packages (2.3.0)\n",
      "Requirement already satisfied: numpy in c:\\users\\lenovo\\desktop\\dissertaion\\code\\.venv\\lib\\site-packages (2.3.1)\n",
      "Requirement already satisfied: matplotlib in c:\\users\\lenovo\\desktop\\dissertaion\\code\\.venv\\lib\\site-packages (3.10.3)\n",
      "Requirement already satisfied: seaborn in c:\\users\\lenovo\\desktop\\dissertaion\\code\\.venv\\lib\\site-packages (0.13.2)\n",
      "Requirement already satisfied: missingno in c:\\users\\lenovo\\desktop\\dissertaion\\code\\.venv\\lib\\site-packages (0.5.2)\n",
      "Requirement already satisfied: scipy in c:\\users\\lenovo\\desktop\\dissertaion\\code\\.venv\\lib\\site-packages (1.16.0)\n",
      "Requirement already satisfied: python-dateutil>=2.8.2 in c:\\users\\lenovo\\desktop\\dissertaion\\code\\.venv\\lib\\site-packages (from pandas) (2.9.0.post0)\n",
      "Requirement already satisfied: pytz>=2020.1 in c:\\users\\lenovo\\desktop\\dissertaion\\code\\.venv\\lib\\site-packages (from pandas) (2025.2)\n",
      "Requirement already satisfied: tzdata>=2022.7 in c:\\users\\lenovo\\desktop\\dissertaion\\code\\.venv\\lib\\site-packages (from pandas) (2025.2)\n",
      "Requirement already satisfied: contourpy>=1.0.1 in c:\\users\\lenovo\\desktop\\dissertaion\\code\\.venv\\lib\\site-packages (from matplotlib) (1.3.2)\n",
      "Requirement already satisfied: cycler>=0.10 in c:\\users\\lenovo\\desktop\\dissertaion\\code\\.venv\\lib\\site-packages (from matplotlib) (0.12.1)\n",
      "Requirement already satisfied: fonttools>=4.22.0 in c:\\users\\lenovo\\desktop\\dissertaion\\code\\.venv\\lib\\site-packages (from matplotlib) (4.58.5)\n",
      "Requirement already satisfied: kiwisolver>=1.3.1 in c:\\users\\lenovo\\desktop\\dissertaion\\code\\.venv\\lib\\site-packages (from matplotlib) (1.4.8)\n",
      "Requirement already satisfied: packaging>=20.0 in c:\\users\\lenovo\\desktop\\dissertaion\\code\\.venv\\lib\\site-packages (from matplotlib) (25.0)\n",
      "Requirement already satisfied: pillow>=8 in c:\\users\\lenovo\\desktop\\dissertaion\\code\\.venv\\lib\\site-packages (from matplotlib) (11.3.0)\n",
      "Requirement already satisfied: pyparsing>=2.3.1 in c:\\users\\lenovo\\desktop\\dissertaion\\code\\.venv\\lib\\site-packages (from matplotlib) (3.2.3)\n",
      "Requirement already satisfied: six>=1.5 in c:\\users\\lenovo\\desktop\\dissertaion\\code\\.venv\\lib\\site-packages (from python-dateutil>=2.8.2->pandas) (1.17.0)\n"
     ]
    }
   ],
   "source": [
    "# This script installs the necessary Python packages for data analysis and visualization.\n",
    "!pip install pandas numpy matplotlib seaborn missingno scipy"
   ]
  },
  {
   "cell_type": "code",
   "execution_count": 11,
   "id": "737b34d6",
   "metadata": {},
   "outputs": [
    {
     "name": "stdout",
     "output_type": "stream",
     "text": [
      "Requirement already satisfied: openpyxl in c:\\users\\lenovo\\desktop\\dissertaion\\code\\.venv\\lib\\site-packages (3.1.5)\n",
      "Requirement already satisfied: et-xmlfile in c:\\users\\lenovo\\desktop\\dissertaion\\code\\.venv\\lib\\site-packages (from openpyxl) (2.0.0)\n",
      "Note: you may need to restart the kernel to use updated packages.\n",
      "  上险省份      品牌             车型       燃油类型   总质量   功率  求和项:数量  \\\n",
      "0  安徽省  ARCFOX  北汽ARCFOX Lite        纯电动  1180   40     4.0   \n",
      "1  安徽省      奥迪          奥迪A6L  插电式汽油混合动力  2477  140     2.0   \n",
      "2  安徽省      奥迪          奥迪A6L  插电式汽油混合动力  2477  140     1.0   \n",
      "3  安徽省      奥迪          奥迪Q2L        纯电动  2090  100    21.0   \n",
      "4  安徽省      宝骏         宝骏E100        纯电动   990   29   375.0   \n",
      "\n",
      "                                         Source_File  销量   省份 燃料类型  \\\n",
      "0  C:/Users/Lenovo/Desktop/Dissertaion/China Data... NaN  NaN  NaN   \n",
      "1  C:/Users/Lenovo/Desktop/Dissertaion/China Data... NaN  NaN  NaN   \n",
      "2  C:/Users/Lenovo/Desktop/Dissertaion/China Data... NaN  NaN  NaN   \n",
      "3  C:/Users/Lenovo/Desktop/Dissertaion/China Data... NaN  NaN  NaN   \n",
      "4  C:/Users/Lenovo/Desktop/Dissertaion/China Data... NaN  NaN  NaN   \n",
      "\n",
      "   求和项:求和项:数量 燃料种类    省  \n",
      "0         NaN  NaN  NaN  \n",
      "1         NaN  NaN  NaN  \n",
      "2         NaN  NaN  NaN  \n",
      "3         NaN  NaN  NaN  \n",
      "4         NaN  NaN  NaN  \n"
     ]
    }
   ],
   "source": [
    "\n",
    "%pip install openpyxl\n",
    "\n",
    "import pandas as pd\n",
    "import glob\n",
    "\n",
    "# Get all .xlsx files in a folder\n",
    "file_paths = glob.glob(\"C:/Users/Lenovo/Desktop/Dissertaion/China Data/Sales/*.xlsx\") \n",
    "\n",
    "# Initialize an empty list to store DataFrames\n",
    "raw_data = []\n",
    "\n",
    "# Loop through each file and each sheet\n",
    "for file in file_paths:\n",
    "    # Read all sheets into a dictionary of DataFrames\n",
    "    sheets_dict = pd.read_excel(file, sheet_name=None)\n",
    "    \n",
    "    # Loop through each sheet and append to all_data\n",
    "    for sheet_name, df in sheets_dict.items():\n",
    "        df['Source_File'] = file  # Optional: Track which file the data came from\n",
    "        raw_data.append(df)\n",
    "\n",
    "# Concatenate all DataFrames into one\n",
    "combined_df = pd.concat(raw_data, ignore_index=True)\n",
    "\n",
    "print(combined_df.head())"
   ]
  },
  {
   "cell_type": "code",
   "execution_count": null,
   "id": "3ed09abb",
   "metadata": {},
   "outputs": [
    {
     "name": "stdout",
     "output_type": "stream",
     "text": [
      "Index(['上险省份', '品牌', '车型', '燃油类型', '总质量', '功率', '求和项:数量', 'Source_File', '销量',\n",
      "       '省份', '燃料类型', '求和项:求和项:数量', '燃料种类', '省', '年份', '月份', '排名', '厂商',\n",
      "       '售价（万元）', 'Unnamed: 7', 'Unnamed: 0', 'Unnamed: 1', 'Unnamed: 2',\n",
      "       'Unnamed: 3', 'Unnamed: 4', 'Unnamed: 5', 'Unnamed: 6', 'Unnamed: 8',\n",
      "       'Unnamed: 9', 'Unnamed: 10', 'Unnamed: 11'],\n",
      "      dtype='object')\n"
     ]
    }
   ],
   "source": [
    "# View Variable Names\n",
    "print(combined_df.columns)\n",
    "\n",
    "# Delete unamed columns\n",
    "combined_df = combined_df.loc[:, ~combined_df.columns.str.contains('^Unnamed')]\n"
   ]
  }
 ],
 "metadata": {
  "kernelspec": {
   "display_name": ".venv",
   "language": "python",
   "name": "python3"
  },
  "language_info": {
   "codemirror_mode": {
    "name": "ipython",
    "version": 3
   },
   "file_extension": ".py",
   "mimetype": "text/x-python",
   "name": "python",
   "nbconvert_exporter": "python",
   "pygments_lexer": "ipython3",
   "version": "3.11.9"
  }
 },
 "nbformat": 4,
 "nbformat_minor": 5
}
