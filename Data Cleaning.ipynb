{
 "cells": [
  {
   "cell_type": "code",
   "execution_count": 84,
   "id": "ceb0d09f",
   "metadata": {},
   "outputs": [
    {
     "name": "stdout",
     "output_type": "stream",
     "text": [
      "Requirement already satisfied: pandas in c:\\users\\lenovo\\desktop\\dissertaion\\code\\.venv\\lib\\site-packages (2.3.0)\n",
      "Requirement already satisfied: numpy in c:\\users\\lenovo\\desktop\\dissertaion\\code\\.venv\\lib\\site-packages (2.3.1)\n",
      "Requirement already satisfied: matplotlib in c:\\users\\lenovo\\desktop\\dissertaion\\code\\.venv\\lib\\site-packages (3.10.3)\n",
      "Requirement already satisfied: seaborn in c:\\users\\lenovo\\desktop\\dissertaion\\code\\.venv\\lib\\site-packages (0.13.2)\n",
      "Requirement already satisfied: missingno in c:\\users\\lenovo\\desktop\\dissertaion\\code\\.venv\\lib\\site-packages (0.5.2)\n",
      "Requirement already satisfied: scipy in c:\\users\\lenovo\\desktop\\dissertaion\\code\\.venv\\lib\\site-packages (1.16.0)\n",
      "Requirement already satisfied: python-dateutil>=2.8.2 in c:\\users\\lenovo\\desktop\\dissertaion\\code\\.venv\\lib\\site-packages (from pandas) (2.9.0.post0)\n",
      "Requirement already satisfied: pytz>=2020.1 in c:\\users\\lenovo\\desktop\\dissertaion\\code\\.venv\\lib\\site-packages (from pandas) (2025.2)\n",
      "Requirement already satisfied: tzdata>=2022.7 in c:\\users\\lenovo\\desktop\\dissertaion\\code\\.venv\\lib\\site-packages (from pandas) (2025.2)\n",
      "Requirement already satisfied: contourpy>=1.0.1 in c:\\users\\lenovo\\desktop\\dissertaion\\code\\.venv\\lib\\site-packages (from matplotlib) (1.3.2)\n",
      "Requirement already satisfied: cycler>=0.10 in c:\\users\\lenovo\\desktop\\dissertaion\\code\\.venv\\lib\\site-packages (from matplotlib) (0.12.1)\n",
      "Requirement already satisfied: fonttools>=4.22.0 in c:\\users\\lenovo\\desktop\\dissertaion\\code\\.venv\\lib\\site-packages (from matplotlib) (4.58.5)\n",
      "Requirement already satisfied: kiwisolver>=1.3.1 in c:\\users\\lenovo\\desktop\\dissertaion\\code\\.venv\\lib\\site-packages (from matplotlib) (1.4.8)\n",
      "Requirement already satisfied: packaging>=20.0 in c:\\users\\lenovo\\desktop\\dissertaion\\code\\.venv\\lib\\site-packages (from matplotlib) (25.0)\n",
      "Requirement already satisfied: pillow>=8 in c:\\users\\lenovo\\desktop\\dissertaion\\code\\.venv\\lib\\site-packages (from matplotlib) (11.3.0)\n",
      "Requirement already satisfied: pyparsing>=2.3.1 in c:\\users\\lenovo\\desktop\\dissertaion\\code\\.venv\\lib\\site-packages (from matplotlib) (3.2.3)\n",
      "Requirement already satisfied: six>=1.5 in c:\\users\\lenovo\\desktop\\dissertaion\\code\\.venv\\lib\\site-packages (from python-dateutil>=2.8.2->pandas) (1.17.0)\n"
     ]
    }
   ],
   "source": [
    "# This script installs the necessary Python packages for data analysis and visualization.\n",
    "!pip install pandas numpy matplotlib seaborn missingno scipy"
   ]
  },
  {
   "cell_type": "code",
   "execution_count": null,
   "id": "737b34d6",
   "metadata": {},
   "outputs": [
    {
     "name": "stdout",
     "output_type": "stream",
     "text": [
      "Requirement already satisfied: openpyxl in c:\\users\\lenovo\\desktop\\dissertaion\\code\\.venv\\lib\\site-packages (3.1.5)\n",
      "Requirement already satisfied: et-xmlfile in c:\\users\\lenovo\\desktop\\dissertaion\\code\\.venv\\lib\\site-packages (from openpyxl) (2.0.0)\n",
      "Note: you may need to restart the kernel to use updated packages.\n"
     ]
    }
   ],
   "source": [
    "################ Import all necessary libraries and data\n",
    "\n",
    "%pip install openpyxl\n",
    "\n",
    "import pandas as pd\n",
    "import glob\n",
    "import re  # For extracting year from filename\n",
    "\n",
    "# Initialize storage\n",
    "combined_data = []\n",
    "\n",
    "# Get all Excel files\n",
    "file_paths = glob.glob(\"C:/Users/Lenovo/Desktop/Dissertaion/China Data/Sales/*.xlsx\")  # Update path\n",
    "\n",
    "for file in file_paths:\n",
    "    # Extract year from filename (assuming format like \"...2023.xlsx\")\n",
    "    year = re.search(r'\\d{4}', file).group()  # Finds first 4-digit number\n",
    "    \n",
    "    # Read all sheets from current file\n",
    "    sheets_dict = pd.read_excel(file, sheet_name=None)\n",
    "    \n",
    "    for sheet_name, df in sheets_dict.items():\n",
    "        # Add identifier columns\n",
    "        df['year'] = int(year)          # From filename\n",
    "        df['type'] = sheet_name         # From sheet name\n",
    "        \n",
    "        combined_data.append(df)\n",
    "\n",
    "# Combine all sales data\n",
    "final_df = pd.concat(combined_data, ignore_index=True)\n",
    "\n",
    "# Import Price Data\n",
    "price_file = pd.read_excel(\n",
    "\t\"C:/Users/Lenovo/Desktop/Dissertaion/China Data/Price 2015-202309.xlsx\",\n",
    "\tsheet_name=\"中国汽车分车型每月销售量\"\n",
    ")\n",
    "\n",
    "# Import Population Data\n",
    "population_file = pd.read_excel(\n",
    "    \"C:/Users/Lenovo/Desktop/Dissertaion/China Data/Geographical Controls/(10)2000-2023年人口密度.xls\",\n",
    "    sheet_name=None\n",
    ")"
   ]
  },
  {
   "cell_type": "code",
   "execution_count": 89,
   "id": "34312912",
   "metadata": {},
   "outputs": [
    {
     "name": "stderr",
     "output_type": "stream",
     "text": [
      "C:\\Users\\Lenovo\\AppData\\Local\\Temp\\ipykernel_212\\3371059348.py:28: FutureWarning: DataFrameGroupBy.apply operated on the grouping columns. This behavior is deprecated, and in a future version of pandas the grouping columns will be excluded from the operation. Either pass `include_groups=False` to exclude the groupings or explicitly select the grouping columns after groupby to silence this warning.\n",
      "  yearly_weighted_prices = price_df.groupby(['model', 'year']).apply(calculate_weighted_avg).reset_index()\n"
     ]
    },
    {
     "name": "stdout",
     "output_type": "stream",
     "text": [
      "       model  year  weighted_Avg_Price  sales\n",
      "0        212  2021               10.29   1433\n",
      "1        212  2023               10.29   1037\n",
      "2     AION S  2019               15.98  31929\n",
      "3     AION S  2020               15.98  46091\n",
      "4     AION S  2021               15.98  69220\n",
      "...      ...   ...                 ...    ...\n",
      "5348      魔方  2023               12.69   5871\n",
      "5349       鲸  2022                0.00    463\n",
      "5350       鲸  2023                0.00    170\n",
      "5351     黑金刚  2015                0.00   1826\n",
      "5352     黑金刚  2016                0.00    462\n",
      "\n",
      "[5353 rows x 4 columns]\n",
      "Results saved to yearly_weighted_prices_by_model.xlsx\n"
     ]
    }
   ],
   "source": [
    "################ Process Price Data\n",
    "# Rename columns to English first\n",
    "price_file = price_file.rename(columns=column_mapping)\n",
    "\n",
    "# Standardize column names to lowercase with underscores\n",
    "def standardize_columns(df):\n",
    "    df.columns = (df.columns\n",
    "                 .str.lower()  # Convert to lowercase\n",
    "                 .str.replace(' ', '_')  # Replace spaces with underscores\n",
    "                 .str.replace('-', '_'))  # Replace hyphens with underscores\n",
    "    return df\n",
    "\n",
    "# Apply standardization to both DataFrames\n",
    "price_file = standardize_columns(price_file)\n",
    "\n",
    "# Drop irrelevant columns (keep only columns we need)\n",
    "price_file = price_file[columns_to_keep_en].copy()\n",
    "\n",
    "# Convert price ranges to midpoints using the function from cell 2\n",
    "price_file['price'] = price_file['price'].apply(price_range_to_midpoint)\n",
    "\n",
    "# Calculate yearly weighted average price\n",
    "def calculate_weighted_avg(group):\n",
    "    total_sales = group['sales'].sum()\n",
    "    weighted_sum = (group['sales'] * group['price']).sum()\n",
    "    return weighted_sum / total_sales if total_sales != 0 else 0\n",
    "\n",
    "yearly_weighted_prices = price_df.groupby(['model', 'year']).apply(calculate_weighted_avg).reset_index()\n",
    "yearly_weighted_prices.columns = ['model', 'year', 'weighted_Avg_Price']\n",
    "\n",
    "# Add total yearly sales for context\n",
    "yearly_sales = price_df.groupby(['model', 'year'])['sales'].sum().reset_index()\n",
    "yearly_weighted_prices = yearly_weighted_prices.merge(yearly_sales, on=['model', 'year'])\n",
    "\n",
    "# Sort the results\n",
    "yearly_weighted_prices = yearly_weighted_prices.sort_values(['model', 'year'])\n",
    "\n",
    "# Display results\n",
    "print(yearly_weighted_prices)\n",
    "\n",
    "# Save to Excel\n",
    "output_path = 'yearly_weighted_prices_by_model.xlsx'\n",
    "yearly_weighted_prices.to_excel(output_path, index=False)\n",
    "print(f\"Results saved to {output_path}\")"
   ]
  },
  {
   "cell_type": "code",
   "execution_count": 91,
   "id": "3ed09abb",
   "metadata": {},
   "outputs": [
    {
     "name": "stdout",
     "output_type": "stream",
     "text": [
      "Index(['year', 'type', 'province', 'brand', 'model', 'fuel_type', 'mass',\n",
      "       'power', 'sales'],\n",
      "      dtype='object')\n"
     ]
    }
   ],
   "source": [
    "################ Process Sales Data\n",
    "\n",
    "# Translate variable names\n",
    "# Manual translation\n",
    "translation_map = {\n",
    "    '省份': 'province',\n",
    "    '品牌': 'brand',\n",
    "    '车型': 'model',\n",
    "    '燃料类型': 'fuel_type',\n",
    "    '功率': 'power',\n",
    "    '销量'  : 'sales',\n",
    "    '总质量': 'mass',\n",
    "}\n",
    "\n",
    "# Apply translations\n",
    "combined_df = final_df.rename(columns=translation_map)\n",
    "\n",
    "# Standardize column names to lowercase with underscores\n",
    "combined_df = standardize_columns(combined_df)\n",
    "\n",
    "# Move 'year' and 'type' to the front\n",
    "cols = ['year', 'type'] + [col for col in combined_df.columns if col not in ['year', 'type']]\n",
    "combined_df = combined_df[cols]\n",
    "\n",
    "\n",
    "# Converts data types\n",
    "combined_df = combined_df.convert_dtypes()\n",
    "\n",
    "# View variable names\n",
    "print(combined_df.columns)\n"
   ]
  },
  {
   "cell_type": "code",
   "execution_count": 98,
   "id": "788015f0",
   "metadata": {},
   "outputs": [
    {
     "name": "stdout",
     "output_type": "stream",
     "text": [
      "The following models were dropped due to missing price data: {'天马L4600', '经典帝豪', '欧朗', '风神AX7', 'Modern in', '赛力斯5 增程型', '伽途im8', '传祺AION Y', '大乘G60', '御风S16', '大通G90', '长安CS75PLUS', '小鹏IDENTY X', 'UNI-V', '力帆乐途S', '智骏GX5', '长安之星9 EV', '江淮A5', '吉利LX', '康迪K12', '领克02 HB', '北汽EC5', 'HiPhi Z', '比亚迪L3', '上汽大通D90', '江南U2', '江铃E100', '瑞风', '精灵#3', '秦EV', 'Q6', '氢舟eH2', '华泰XEV260', '几何T', 'ID.7 VIZZION', '科赛5', '威旺S50', '幻速S3L', '名爵7', '上汽大通EG10', '松散SS DOLPHIN', '长安V3', '野马T60', 'UR-V', '智骏GC1', '吉利SX7', '北京20', 'ARCFOX αT', '景逸X6', '俊风E11K', '领克08', '微蓝 6', '国金骏行', '王牌E.M7', '启辰R50', '江淮iEV5', 'EQC', '名爵Cyberster', 'Lumin', '永源A380', '帕萨特PHEV', '帝豪EV', '风行S50', 'E60 EV', '思铭M-NV', '江淮iEV7S', '小海狮X30L', '特斯拉Model 3', '华梓1号', 'E9 PHEV', 'XR-V', '狮跑', '奔驰EQE级', '长安CS35 mini', '传祺AION V', '荣威i6 MAX EV', '长安LUMIN', '远景SUV', '高尔夫嘉旅', '恒润HRS1', '悦翔V3', '唐', '致享', 'CS35PLUS', '秦PLUS EV', '坦克500 PHEV', 'X7 PHEV', '元Pro', '力帆乐途', '嘉悦X8', '小康K05S', '天越', '上汽大通G10', '英朗GT', 'MG3', '大乘E20', '幸福e+', '508L', '奇瑞eQ7', 'ix35', '比亚迪唐', '斯威G05', '凯迪拉克IQ傲歌', '比亚迪M3', 'DS9 PHEV', '裕路EV2', '天际ME7', '白猫', '大迈X7', '奇点iS6', 'EQA', 'FAW bZ4X', '幻速H2V', 'Aion Y', 'Electra E4', '领克05 PHEV', '凌轩', '极星1', 'T60', '北汽EU7', '黑金刚', '宋L', '新凯越', 'Electra E5', '猎豹Coupe', '瑞驰', '力帆330', '荣威MarvelX', '大众T-CROSS', '卡威W1', '传祺GM6', '景逸X3', '汉腾V7', '比亚迪e9', '上汽大通EUNIQ 6', '路特斯ELETRE', '蓝山', '成功V1', '名爵领航', 'C3-XR', 'Aion S PLUS', '东风小康K07S', '柯迪亚克GT', 'e3', '发现运动版 PHEV', 'CC', '威旺M50F', '北汽EC系列', 'HiPhi Y', '北京90', '宝骏310W', '夏利N5', '仰望U8', '比亚迪秦Pro', '力帆320', 'e诺', '江南TT', '斯威X2', '星越L EREV', '东风小康K05S', '欧尚X7', '瑞虎7 PLUS DP-i', '昊铂Hyper GT', '北京BJ20', 'Model Y(CKD)', '玛奇朵', '东风小康EC36', '幻速H2', '北京K7', 'E级三厢PHEV', '长安E-Rock', '奔驰威霆', 'A6L', '迈迈', '锐歌', '尼欧II', '荣威350', '知豆', '捷途山海L9', 'SS DOLPHIN', '成功V2', '威朗Pro', 'A6L e-tron', '东风小康C35', '北汽E系列', '北京212', '广汽ix4', '马自达8', '无界PRO', '本田INSPIRE', '启腾L1', '奇瑞iCAR 03', '云兔', '荣威ei6 MAX', '哈弗H6 Coupe', '风神SKY', '马自达6阿特兹', '天语SX4', '传祺影豹', 'MG ZS', 'V5', 'ET5', '缤果', '传祺GM8', '风行T1 BEV', '福仕达', '唐EV', '野马EC70', '长安之星5', '威旺M60', '御捷E骋', '五菱Air EV晴空', '幻速S7', '北京80 TAP', '中兴C3', '大V PHEV', '吉利EC8', '金杯750', 'KX3', 'MG EZS', '荣威Marvel X', '锐腾', '吉利GX7', '风行Friday', '陆风X8', 'AionS', '传祺AION Y Pio', '芝麻', '奔驰EQA级', '比亚迪海豚', '海景', '英致EX1', '智尚S30', '幻速S2', '开瑞优胜Ⅱ', '大通D90', '斯威X3', '敏安MX-6', '艾瑞泽5 GT', '雅力士致炫', 'MG MULAN', '之星9', 408, '时代', '上汽大通EUNIQ 5', 'ET7', '比亚迪秦PLUS', '拾月', '众泰M300', '大虎', '劲炫', '吉利TX', '风神皓极', '高山', 'C-HR', '御捷E驰', '比亚迪E2', '潍柴TX7', '帝豪EC7', '江淮iEV7', 'C40 EV', '荣威鲸', '爱唯欧', '荣威ER6', '众泰云100', '风神A30', 'K5', '奔腾70S', 'XFL', '奔驰GLA级', '欧尚长行', 'AionLX', '秀尔', '众泰Z500', 'EC6', '跨越星V5 EV', 'Q2L', '北汽新能源EX5', '启源Q05', '启腾EX7', '欧尚Z6', 'DS6', 'Q2L EV', 'E.5', '迈途', '蓝电E3 BEV', '英仕派 PHEV', '北汽EU系列', '名爵ONE', 'CT4', '北京60', '宝骏悦也EV', '欧诺', '昌河M70', '五菱宏光S1', 'e2', '江淮iEV4', 'EUNIQ 5 PHEV', '北京魔方', '云雀Q1', 'SL03 EREV', 'MG6', 'BXi7', 'ELETRE', 'AionV', '奥拓', 'S60 PHEV', '瑞奕', '风神L60', '领地', '战旗', '本田e:NP1', '领克01 PHEV', '风行X5', '恒润H23', '5系Li PHEV', '经典福克斯', '秦Pro DM', '北汽EX3', '利亚纳A6', 'MARVEL X', '大7 MPV', '江淮iEV7E', 'Z03', 'ARCFOX Lite', '传祺AionS', '启源A05', '大通G70', '吉利GC7', '威马E5', '欧尚COS1', '艾瑞泽3', '雅力士致享', '豹200', '欧尚X5 PLUS', '别克Velite 6', '威兰达 PHEV', '北京U5', '威旺205', '丰田bZ4X', '凯翼拾月', '东风EX1', 'GS4 PHEV', 'M60', '风神H30Cross', '野马Mach-E', 'eRX5 Plus PHEV', '风度MX6', '吉利S1', '五菱宏光S', 'e:NP1', 'Mustang Mach-E', '智达X3', '指挥官', '标致508L', '岚图Free 增程式', '绅宝D60', '阿尔法 αS', '昌河A6', '比亚迪汉', '大通G10', 'VELITE 6', '极星2', 'iX3', '极湃1', '腾翼C30', '新明锐', '传祺GS4 Coupe', '传祺GS5速博', '长安CX70', '东风小康', '智界S7', 'Q5 e-tron', 'ix25', '昌河Q7', '领克06 PHEV', '睿蓝7', '比亚迪宋', '小康C37', '睿翼', '新日i03', '蓝瑟', '圣达菲7', 'SL03 EV', '道达V8', '蒂阿兹', '梦想家 EV', '捷途X70S', '启辰大V PHEV', '五菱宏光MINI EV 敞篷版', '逸行', '80V', '驭胜S350', '艾睿雅', '荣威550', '飞凡Marvel R', '东风小康V27', 'MIFA 9', '比亚迪元PLUS', '别克Velite 5', '宝马ix3', 'CX-30 EV', '英伦SC6', '极狐 阿尔法S', '海马S3', '起亚K50', '上汽大通D60', '敏微ET-1', '科赛GT', 'BX5', '比亚迪元Pro', '腾势N7 EV', 'BEIJING X7', '君马MEET 3', '五菱宏光PLUS', '星驰', '思皓E10X', '九龙EM3', '五菱宏光MINI', '新帝豪', '启腾V60', '福瑞达M50S', '本田LIFE', '腾势X EV', '云逸C4 AIRCROSS', '景逸X7', 'GL8', '大猫', '几何E', '野马U能E350', '普力马', 'D60EV', '马自达3昂克赛拉', '星途星纪元ES', '世锐', 'EX5', '昆仑', '玛奇朵PHEV', '金牛星', '森雅鸿雁', 'bZ3', '长安CS55 Plus', '皓瀚', '蚂蚁', '风行S500', '奔驰EQB级', '比亚迪宋Pro', '金康SERES SF5', '微蓝 7', 'Velite6', '几何A', '江淮IEV7S', '秦', '传祺E8', '艾菲', '五菱宏光S3', '大众ID.4 X', '江铃E200', '银河E8', '荣威e550', '大通MIFA 7', '五菱星光', 'ES8', '九龙EM5', '跨越星V3', '锋驭', '广汽AION Y Pio', '逸动ET', '索纳塔八', '启辰VX6', 'CS15', 'BJ2020', '小康C35', '风行F600', '广汽iA5', '康迪K22', '小猫', '尊驰', '广汽AIONS MAX', '北汽新能源EX3', '别克Velite7', '宝利格', '上汽大通EUNIQ 7', '康迪K27', '天美ET5', '速达SA01', '别克Electra E4', '哈弗H7L', '启源A06', '俊风EV30', '东风小康C36', '长安X7 PLUS', '睿行S50T', '俊风ER30', '雷诺e诺', '小康K07S', '比亚迪F0', '众泰SR9', 'LS7', '大通D60', '梦想家 PHEV', '海马S5 Young', '比亚迪E6', '远航Y6', '4008', '别克Velite 7', 'EZoom羿', '北汽U5', '之诺100H', '国新ET300', '宋 PLUS DM-i', '致炫', '阿尔法T5', '远航H8', '朗境', '艾瑞泽M7', 'e:NS1', '朋克Ipick', '风行T7', '风神E60', '哈弗H5L', '宋MAX DM', 'KiWi', '众泰Z300', 'C11增程式', '东风小康380', '宋 PLUS EV', '明锐旅行车', '腾势N8 PHEV', '精灵#1', 'XC40 EV', '广汽bZ4X', '风光580 PLUS', '无限V3', '启辰D50', '长安深蓝SL03', '君阁', '极光', '领克09 PHEV', '起亚KX3', '秦PLUS DM-i', '桑塔纳尚纳', 'EQE SUV', 'e爱丽舍 BEV', '北汽EC3', '北汽EV系列', '哈弗H2S', 'V6菱仕', '岚图Free EV', '名爵5', '荣威eRX5', '江淮iEV', 'MARVEL R', '马自达CX-50', 'M-NV', '艾瑞泽7', '比亚迪E3', '海马V70', '腾势D9 EV', '问界M5 EV', '嘉际PHEV', '威旺M20', 'A5翼舞', '北汽新能源EC5', '旷世', '陆风X7', '帝豪L Hi·P', '北汽ARCFOX Lite', 'HiPhi X', '威朗轿跑', '菱智M5 EV', '广汽AionS', '魏派VV6', '欧尚科尚 EV', '比亚迪G5', '蓝山 PHEV', '风度MX5', '名驭', '卡威E家', 'Yeti', '风神EX1', '嫦娥', '幻速S6', '领途K-ONE', '瑞风L5', '奔腾B90', '欧拉R2', '荣威MarvelR', '力帆720', '腾势N8 EV', 'Aion S', 'X30', 'Polestar 2', '朗动', '五菱之光V', '408', '比亚迪S7', '大众Polo', '汉 DM-p', '嘉年华', 'HR-V', '猛士917 BEV', '瑞虎8 PLUS', '开沃D07', '风行CM7', '长安E-Pro', '蔚领', 'E70', 'MG5', '瑞风S2 mini', '拿铁', '上汽Clever', '瑞虎3Xe', '之诺60H', '浪迪', '北汽新能源EU7', '哪吒GT', '欧力威', 'MG5天蝎座', '经典圣达菲', '大众Viloran', '宝沃BXi7', '岚图追光 PHEV', 'MG HS', '上汽大通MAXUS MIFA氢', '几何C', '五菱宏光MINI EV', '奕泽', '奔驰GLB级', '宝骏330', '荣曜', '魏派VV7', '福克斯Active', '星', '风光MINI', '银河L7 PHEV', 'GAC bZ4X', '东南DX8 PLUS', '北汽ARCFOX αS', 'F0', '俊风EJ30', 'BJ212', '嫦娥MINI', 'iMAX8 EV', '北京80', 'S7 EREV', '斯威大虎', 'C6', '天逸', '哈弗H6S', 'A07 EREV', '潍柴U75', '众泰TS5', '五菱晴空', 'CS85', '江淮iEVS4', '北汽EX系列', '伽途im6', '坦克400', '前途K50', '松散海豚', '宝骏RS-7', '重汽U75', '凯迪拉克 GT4', '比亚迪E5', '马自达6', '花冠', '红旗L5', '欧尚COSMOS', 'XC60 PHEV', '凌宝COCO', '宝马2系', '哈弗H8', 'RX5 MAX PHEV', 'FREE', '魏派VV5', '小幸福', '国能93', '荣威MARVEL X', 'ES7', 'CS55', '嘉远KOMI', '骐达', '森雅R9', '飞腾C5', '探歌', '丰田RAV4', '奥迪Q3轿跑', 'Q3', '江铃E300', '凯翼C3', '君马MEET 5', '奇瑞eQ1', '天逸C5', '菱智PLUS', '卡罗拉 双擎E+', '比亚迪海鸥', '比亚迪S6', '北汽制造家宝', '一汽bZ4X', '小康C36', '高合Hiphi X', '瑞风M2', '现代ENCINO', 'UNI-T', '长安UNI-K PHEV', 'VELITE 6 PHEV', 'T-CROSS', '名爵MULAN', '康迪EX3', '星旺CL', '广汽AionLX', '艾睿雅 BEV', '宋', 'EV系列', '思皓爱跑S', '荣威E50', 'X30L', '幻速H3F', '理念S1', '梦想家', 'iEV7L', '传祺GA3S', '恒天L4600', '魏派VV7 GT', '纳智捷优6', '绅宝智行', '哪吒S 增程式', '悦虎ES3', '名爵GS', 'CS75', '欧尚Z6 PHEV', '星途VX', '捷途X90 PLUS', '瑞翔X5', '长安之星2', '易电易行K60', '途胜L', '江南T11', '北汽EU5', '和悦A13', '雷丁i9', '极星4', '奔奔mini', '众泰Z200', 'UNI-K', '荣威i6 MAX', '知豆D1', '帝豪EV Pro', '康迪K23', 'A3L', '艾瑞泽EX', '大通MIFA 9', '黑猫', '名爵5天蝎座', '翼神', '易电易行FM3', 'GL6', '欧麦加', 'CT6', '小康380', '摩卡 PHEV', '凯迪拉克LYRIQ锐歌', '宝骏乐驰', '长城C50', '风神S30', '之星5', '风神AX4', '长安之星3', '英伦TX5', 'MG HS PHEV', '荣威ERX5 EV', 'G10', '宋 Pro DM', 'T60EV', '欧拉R1', 'QX60', '瑞虎8 PRO', '鹏飞', '大通领地', '比亚迪商', '纳智捷U5 SUV', '驭胜S330', '悦界', '考拉', '金刚', '大众ID.6 X', 'E6', '力帆650', '风行SX6', '瑞虎E', '大众CC', 'QX50', '哈弗枭龙', '现代ix35', '捷途X70 PLUS', '追光', 'CR-V', 'VELITE 7', '悦纳RV', '别克Electra E5', '马自达CX-7', '汉 DM-i', '新特AEV', '红旗H5 FCEV', 'Q5L', 'A3', 'E美', '新特DEV 1', '熊猫', '广汽Aion V', '起亚K4', '新特DEV1', '逸动EV', '比亚迪元', '奔奔EV', '奇瑞eQ2', '汉 EV', '瑞虎7 PLUS', '海马7X EV', '比亚迪宋PLUS', '科赛3', 'MG6 PHEV', '科帕奇', '传祺AION.S', '朗逸XR', '荣威龙猫', '五菱之光S', '上汽大通G20', '兰德酷路泽', '帅虎ES3', '赛那', '和悦', '智骏GC2', '爱尚', 'ID.3', '现代ix25', '哈弗猛龙', '阿维塔12', '北汽ET3', '大通G20', '宏瑞小虎', '世嘉', '标致308S', '竞技者', '江淮QX', 'A4L', '哪吒X', '魏派P8', '理想MEGA', '菱智 PLUS', 'AION Y Plus', 'DS5', '迈迪i3', 'Aion V', 'C11', '沃尔沃S60L', '跨越星V5', '传祺AION LX', '瑞虎5X', '理念VE1', '上汽大通G50', '五菱荣光S', '威旺306', '众泰T600 Coupe', '蓝电E3', '昂科威S', '力帆80V', '北斗星X5', '海马M8', '幻速H2E', '君马SEEK 5', '小鹏X9', 'BX7', '智道U7', '东南DX8S', '领途V-3S', '威朗GS', '奥迪A3L', '夏利N7', '荣威D7', '雷凌 双擎E+', '众泰E100', '风神AX5', '大通EUNIQ 5', '起亚K3S', '腾势N8', '迈腾 GTE', 'S7 EV', '比亚迪宋MAX', '启源A07', '昌河Q25', '恒驰5', '大通G50', '吉利icon', '广汽AionV', '领途V3S', '欧尚X5', '拿铁 PHEV', 'CR-V PHEV', 'D1', '天际ME5 增程式', '大众ID.6 Crozz', '东风帕拉丁', 'KX5', 'S90(国产) PHEV', '捷途X70 Coupe', '明锐PRO', '极狐αT', '上汽大通EG50', '奔驰GLC级', '绅宝智道', '星途TXL', '豹100', '威骏', '特斯拉Model Y', '速锐', '力帆820', '凌宝UNI', '大7 SUV', '豪情SUV', 'K3', '(空白)', '大众ID.4 Crozz', '长安之星9', '荣威ei6', '讴歌TLX-L', '北斗星EC100', 'Q5L Sportback', '捷途X70M', '哈弗H5', 'ER6', '天语尚悦', '缤纷', '陆风X5', '中华H230', 'eRX5 PHEV', '瑞虎8 PLUS PHEV', '敏安ET-5', 'Velite7', 'EUNIQ 5 EV', '嫦娥MINI EV', 'EQE', '比亚迪F5', '大迈X5', '芒果MAX', '大乘G60S', '景逸X5', '几何EX3 功夫牛', '山海L9', '帕拉丁', '二代大狗 PHEV', '宏光mini', '传祺GS8 S', '凌放', '思皓花仙子', '北京BW007', '广汽Aion S', '驰虎EM6', '莱姆斯特EVJ300', '御捷E行', '起亚KX Cross', '逍遥', '宏瑞小虎 BEV', '观致3都市SUV', '极氪007', '探陆', '哈弗F7x', '恒润HR-S1', '星途追风 PHEV', '比亚迪G3', 'EQB', '风神E70', '比德文E3', '捷途大圣i-DM', '北汽U7', '科尚', '风光E380', '比亚迪秦', '风神A60', '奕泽 E进擎', '猛士917', '中兴S1', 'RAV4 双擎E+', '揽胜极光(国产) PHEV', '宋Pro', '速达SD01', '传祺影酷', '欧尚A500', '纳5', '广汽AION Y', '风光MINI EV', '睿行M60', '云逸', '北京40', '逸酷', '奔奔MINI', '瑶光', '荣威D5X', 'iEVA50', '华凯360EV', 'DS9', '欧联M1', '福特EVOS', '潍柴U70', '北汽新能源EU5', 'V3', '领坤EV', '俊风E17', '奥迪Q5', '华骐', '知豆D3', 'Q50L', '途观L PHEV', 'A06', '骏捷FSV', 'DS 5LS', '商', '博腾V1', '幻速S3', '斯威大虎EDi', '海马E1', '风景V5', '熊猫MINI', '欧尚A600', '奔驰EQC级', '欧尚X70A', '高合Hiphi Z', '易至EV2', '斯威X7', 'CLEVER', '飞腾', '开瑞优优', '纳智捷优5 SUV', 'E-QM5', '景逸SUV', '凯迪拉克LYRIQ', '宏光MINI', '朗逸新锐', '起亚EV5', '绅宝X55', '威旺307', 'ARCFOX αS', '欧尚COS1°', '五十铃mu-X', '江铃E500', '夏利N3', '广汽Aion LX', '昂科拉PLUS', 'ZR-V', '长安UNI-V PHEV', '未奥BOMA', '启能GEV1', '北汽EX5', '思铂睿', '比亚迪海豹', '桑塔纳Cross', '昊铂HT', '风光', '别克Velite6', '北京30', 'e-tron', '皓影 PHEV', 'EC7', '阿图柯', '旗云2', 'RAV4', '睿行EM60', '红星X2', '瑞翔X3', '江淮iEV7L', '别克Velite', '江铃E400', 'F3', '五菱730', '北京40L', '沐飒', 'WEY 蓝山', '合创V09', '思铭X-NV', '风神AX3', 'DS7', '景逸X5L', 'EQ1', '问界M9', '哪吒S EV', '幻速H5', '凌宝K23', '名图 EV', '比亚迪E1', '唐DM', '逸动PLUS', '雷丁i5', '歌诗图', '极狐αS', '哈弗H6 PHEV', 'Model 3(CKD)', 'EU系列', '2008', '成功企鹅', '国金GM3', 'D60 EV PLUS', 'A7L', '电咖EV10', 4008, 'CS95', 'W6', '幻速H3', '极狐 阿尔法T', '金康S513', 'D60 EV', '昂科威PLUS', 'C级 PHEV', '荣威Clever', '豹5', '宝骏kiwi', 'POLO', '极石01', '大乘G70', '枫叶X3 PRO', '斯威G01', '新胜达', '极越01', 'SX6', '长安CS85', 'HYCAN 007', 'eNS1', '成功小虎', '宝骏560', '长安启源Q05', 2008, '众泰T800', 'Q4 e-tron', '凯翼E3', '五菱Nano', 'ES6', '伽途ix7', '荣威ei5', '奇瑞EQ', '北京U7', '桑塔纳浩纳', '福瑞达M50', '马自达3星骋', '腾势D9 PHEV', '祺智', '风行T5L', '昊铂SSR', '幻速S5', '捷途X95', '宝骏RC-5W', '欧尚A800'}\n",
      "\n",
      "Combined data preview:\n",
      "   year      type province brand   model  fuel_type  mass power  sales  \\\n",
      "0  2019  国产新能源乘用车      安徽省    奥迪   奥迪A6L  插电式汽油混合动力  2477   140      2   \n",
      "1  2019  国产新能源乘用车      安徽省    奥迪   奥迪A6L  插电式汽油混合动力  2477   140      1   \n",
      "2  2019  国产新能源乘用车      安徽省    奥迪   奥迪Q2L        纯电动  2090   100     21   \n",
      "3  2019  国产新能源乘用车      安徽省    宝骏  宝骏E100        纯电动   990    29    375   \n",
      "4  2019  国产新能源乘用车      安徽省    宝骏  宝骏E100        纯电动   999    29      5   \n",
      "\n",
      "   weighted_Avg_Price  \n",
      "0              54.235  \n",
      "1              54.235  \n",
      "2              24.580  \n",
      "3               5.230  \n",
      "4               5.230  \n"
     ]
    }
   ],
   "source": [
    "################ Combine Sales and Price Data\n",
    "\n",
    "# Drop sales and month from price_df \n",
    "yearly_weighted_prices = yearly_weighted_prices.drop(columns=['sales'], errors='ignore')  # Ignore if 'sales' column doesn't exist\n",
    "\n",
    "# Merge the datasets on model and year\n",
    "merged_df = pd.merge(combined_df, yearly_weighted_prices, \n",
    "                    on=['model', 'year'], \n",
    "                    how='inner')  # Inner join to keep only matching models\n",
    "\n",
    "# Verify if any models were dropped\n",
    "original_models = set(combined_df['model'].unique())\n",
    "merged_models = set(merged_df['model'].unique())\n",
    "dropped_models = original_models - merged_models\n",
    "\n",
    "if len(dropped_models) > 0:\n",
    "    print(f\"The following models were dropped due to missing price data: {dropped_models}\")\n",
    "else:\n",
    "    print(\"All models had matching price data and were kept.\")\n",
    "\n",
    "# Save the combined data (optional)\n",
    "merged_df.to_csv('combined_sales_price_data.csv', index=False)\n",
    "\n",
    "# Display the first few rows of the combined data\n",
    "print(\"\\nCombined data preview:\")\n",
    "print(merged_df.head())"
   ]
  },
  {
   "cell_type": "code",
   "execution_count": 105,
   "id": "e928a822",
   "metadata": {},
   "outputs": [
    {
     "name": "stdout",
     "output_type": "stream",
     "text": [
      "   year      type province brand   model  fuel_type  mass power  sales  \\\n",
      "0  2019  国产新能源乘用车      安徽省    奥迪   奥迪A6L  插电式汽油混合动力  2477   140      2   \n",
      "1  2019  国产新能源乘用车      安徽省    奥迪   奥迪A6L  插电式汽油混合动力  2477   140      1   \n",
      "2  2019  国产新能源乘用车      安徽省    奥迪   奥迪Q2L        纯电动  2090   100     21   \n",
      "3  2019  国产新能源乘用车      安徽省    宝骏  宝骏E100        纯电动   990    29    375   \n",
      "4  2019  国产新能源乘用车      安徽省    宝骏  宝骏E100        纯电动   999    29      5   \n",
      "5  2019  国产新能源乘用车      安徽省    宝马    宝马5系  插电式汽油混合动力  2495    70    249   \n",
      "6  2019  国产新能源乘用车      安徽省    宝马    宝马X1  插电式汽油混合动力  2340   100      2   \n",
      "7  2019  国产新能源乘用车      安徽省    宝马    宝马X1  插电式汽油混合动力  2340    70     22   \n",
      "8  2019  国产新能源乘用车      安徽省    奔腾   奔腾B30        纯电动  1838    90     37   \n",
      "9  2019  国产新能源乘用车      安徽省    奔腾   奔腾X40        纯电动  1955   140      1   \n",
      "\n",
      "   weighted_Avg_Price  \n",
      "0              54.235  \n",
      "1              54.235  \n",
      "2              24.580  \n",
      "3               5.230  \n",
      "4               5.230  \n",
      "5              49.950  \n",
      "6              31.940  \n",
      "7              31.940  \n",
      "8               0.000  \n",
      "9               0.000  \n"
     ]
    }
   ],
   "source": [
    "print(merged_df.head(10))"
   ]
  },
  {
   "cell_type": "code",
   "execution_count": null,
   "id": "14578947",
   "metadata": {},
   "outputs": [],
   "source": [
    "################ Process Population Data"
   ]
  },
  {
   "cell_type": "code",
   "execution_count": null,
   "id": "e94eed2c",
   "metadata": {},
   "outputs": [
    {
     "data": {
      "text/plain": [
       "0"
      ]
     },
     "execution_count": 104,
     "metadata": {},
     "output_type": "execute_result"
    }
   ],
   "source": [
    "################ Final Adjustments to Merged Data\n",
    "\n",
    "# Translation of all observations\n",
    "\n",
    "# Dealing with missing values, outliers and zeros\n",
    "# Find number of zeros sales\n",
    "\n",
    "\n",
    "\n",
    "# Calculating market share using population as total market size\n"
   ]
  }
 ],
 "metadata": {
  "kernelspec": {
   "display_name": ".venv",
   "language": "python",
   "name": "python3"
  },
  "language_info": {
   "codemirror_mode": {
    "name": "ipython",
    "version": 3
   },
   "file_extension": ".py",
   "mimetype": "text/x-python",
   "name": "python",
   "nbconvert_exporter": "python",
   "pygments_lexer": "ipython3",
   "version": "3.11.9"
  }
 },
 "nbformat": 4,
 "nbformat_minor": 5
}
