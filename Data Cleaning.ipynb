{
 "cells": [
  {
   "cell_type": "code",
   "execution_count": null,
   "id": "ceb0d09f",
   "metadata": {},
   "outputs": [
    {
     "name": "stdout",
     "output_type": "stream",
     "text": [
      "Requirement already satisfied: pandas in c:\\users\\lenovo\\desktop\\dissertaion\\code\\.venv\\lib\\site-packages (2.3.0)\n",
      "Requirement already satisfied: numpy in c:\\users\\lenovo\\desktop\\dissertaion\\code\\.venv\\lib\\site-packages (2.3.1)\n",
      "Requirement already satisfied: matplotlib in c:\\users\\lenovo\\desktop\\dissertaion\\code\\.venv\\lib\\site-packages (3.10.3)\n",
      "Requirement already satisfied: seaborn in c:\\users\\lenovo\\desktop\\dissertaion\\code\\.venv\\lib\\site-packages (0.13.2)\n",
      "Requirement already satisfied: missingno in c:\\users\\lenovo\\desktop\\dissertaion\\code\\.venv\\lib\\site-packages (0.5.2)\n",
      "Requirement already satisfied: scipy in c:\\users\\lenovo\\desktop\\dissertaion\\code\\.venv\\lib\\site-packages (1.16.0)\n",
      "Requirement already satisfied: python-dateutil>=2.8.2 in c:\\users\\lenovo\\desktop\\dissertaion\\code\\.venv\\lib\\site-packages (from pandas) (2.9.0.post0)\n",
      "Requirement already satisfied: pytz>=2020.1 in c:\\users\\lenovo\\desktop\\dissertaion\\code\\.venv\\lib\\site-packages (from pandas) (2025.2)\n",
      "Requirement already satisfied: tzdata>=2022.7 in c:\\users\\lenovo\\desktop\\dissertaion\\code\\.venv\\lib\\site-packages (from pandas) (2025.2)\n",
      "Requirement already satisfied: contourpy>=1.0.1 in c:\\users\\lenovo\\desktop\\dissertaion\\code\\.venv\\lib\\site-packages (from matplotlib) (1.3.2)\n",
      "Requirement already satisfied: cycler>=0.10 in c:\\users\\lenovo\\desktop\\dissertaion\\code\\.venv\\lib\\site-packages (from matplotlib) (0.12.1)\n",
      "Requirement already satisfied: fonttools>=4.22.0 in c:\\users\\lenovo\\desktop\\dissertaion\\code\\.venv\\lib\\site-packages (from matplotlib) (4.58.5)\n",
      "Requirement already satisfied: kiwisolver>=1.3.1 in c:\\users\\lenovo\\desktop\\dissertaion\\code\\.venv\\lib\\site-packages (from matplotlib) (1.4.8)\n",
      "Requirement already satisfied: packaging>=20.0 in c:\\users\\lenovo\\desktop\\dissertaion\\code\\.venv\\lib\\site-packages (from matplotlib) (25.0)\n",
      "Requirement already satisfied: pillow>=8 in c:\\users\\lenovo\\desktop\\dissertaion\\code\\.venv\\lib\\site-packages (from matplotlib) (11.3.0)\n",
      "Requirement already satisfied: pyparsing>=2.3.1 in c:\\users\\lenovo\\desktop\\dissertaion\\code\\.venv\\lib\\site-packages (from matplotlib) (3.2.3)\n",
      "Requirement already satisfied: six>=1.5 in c:\\users\\lenovo\\desktop\\dissertaion\\code\\.venv\\lib\\site-packages (from python-dateutil>=2.8.2->pandas) (1.17.0)\n"
     ]
    }
   ],
   "source": [
    "# This script installs the necessary Python packages for data analysis and visualization.\n",
    "!pip install pandas numpy matplotlib seaborn missingno scipy"
   ]
  },
  {
   "cell_type": "code",
   "execution_count": 22,
   "id": "737b34d6",
   "metadata": {},
   "outputs": [
    {
     "name": "stdout",
     "output_type": "stream",
     "text": [
      "Requirement already satisfied: openpyxl in c:\\users\\lenovo\\desktop\\dissertaion\\code\\.venv\\lib\\site-packages (3.1.5)\n",
      "Requirement already satisfied: et-xmlfile in c:\\users\\lenovo\\desktop\\dissertaion\\code\\.venv\\lib\\site-packages (from openpyxl) (2.0.0)\n",
      "Note: you may need to restart the kernel to use updated packages.\n"
     ]
    }
   ],
   "source": [
    "# Import all necessary libraries and data\n",
    "\n",
    "%pip install openpyxl\n",
    "\n",
    "import pandas as pd\n",
    "import glob\n",
    "import re  # For extracting year from filename\n",
    "\n",
    "# Initialize storage\n",
    "combined_data = []\n",
    "\n",
    "# Get all Excel files\n",
    "file_paths = glob.glob(\"C:/Users/Lenovo/Desktop/Dissertaion/China Data/Sales/*.xlsx\")  # Update path\n",
    "\n",
    "for file in file_paths:\n",
    "    # Extract year from filename (assuming format like \"...2023.xlsx\")\n",
    "    year = re.search(r'\\d{4}', file).group()  # Finds first 4-digit number\n",
    "    \n",
    "    # Read all sheets from current file\n",
    "    sheets_dict = pd.read_excel(file, sheet_name=None)\n",
    "    \n",
    "    for sheet_name, df in sheets_dict.items():\n",
    "        # Add identifier columns\n",
    "        df['year'] = int(year)          # From filename\n",
    "        df['type'] = sheet_name         # From sheet name\n",
    "        \n",
    "        combined_data.append(df)\n",
    "\n",
    "# Combine all DataFrames\n",
    "final_df = pd.concat(combined_data, ignore_index=True)\n",
    "\n",
    "# Import Price Data\n",
    "price_file = pd.read_excel(\n",
    "\t\"C:/Users/Lenovo/Desktop/Dissertaion/China Data/Price 2015-202309.xlsx\",\n",
    "\tsheet_name=\"中国汽车分车型每月销售量\"\n",
    ")\n"
   ]
  },
  {
   "cell_type": "code",
   "execution_count": 55,
   "id": "09d8c0c0",
   "metadata": {},
   "outputs": [
    {
     "name": "stderr",
     "output_type": "stream",
     "text": [
      "C:\\Users\\Lenovo\\AppData\\Local\\Temp\\ipykernel_212\\1767318256.py:24: FutureWarning: DataFrameGroupBy.apply operated on the grouping columns. This behavior is deprecated, and in a future version of pandas the grouping columns will be excluded from the operation. Either pass `include_groups=False` to exclude the groupings or explicitly select the grouping columns after groupby to silence this warning.\n",
      "  yearly_data = price_file.groupby('车型').apply(\n"
     ]
    },
    {
     "name": "stdout",
     "output_type": "stream",
     "text": [
      "        车型  Total_Sales  Weighted_Price_Sum  Weighted_Avg_Price\n",
      "0      212       2470.0           25416.300              10.290\n",
      "1   AION S     445125.0         7113097.500              15.980\n",
      "2   AION V      67839.0         1457520.915              21.485\n",
      "3   AION Y     310087.0         4800146.760              15.480\n",
      "4  Aion LX       9099.0          344033.190              37.810\n"
     ]
    }
   ],
   "source": [
    "# Process Price Data\n",
    "\n",
    "# Define a function to convert price ranges to midpoints\n",
    "def price_range_to_midpoint(price_str):\n",
    "    try:\n",
    "        # Split the string by hyphen\n",
    "        price_parts = price_str.split('-')\n",
    "        \n",
    "        # Convert each part to float\n",
    "        low = float(price_parts[0])\n",
    "        high = float(price_parts[1])\n",
    "        \n",
    "        # Calculate and return midpoint\n",
    "        return (low + high) / 2\n",
    "    except:\n",
    "        # Return None or some default value if conversion fails\n",
    "        return None\n",
    "\n",
    "# Calculate midpoints for price ranges\n",
    "price_file['price_midpoint'] = price_file['售价（万元）'].apply(price_range_to_midpoint)\n",
    "\n",
    "# Calculate yearly sales-weighted price for each model\n",
    "# 1. calculate total sales and sales-weighted price sum by model\n",
    "yearly_data = price_file.groupby('车型').apply(\n",
    "    lambda x: pd.Series({\n",
    "        'Total_Sales': x['销量'].sum(),\n",
    "        'Weighted_Price_Sum': (x['销量'] * x['price_midpoint']).sum()\n",
    "    })\n",
    ")\n",
    "\n",
    "# Then calculate the weighted average price\n",
    "yearly_data['Weighted_Avg_Price'] = yearly_data['Weighted_Price_Sum'] / yearly_data['Total_Sales']\n",
    "\n",
    "# 2. Reset index to make Model a column again\n",
    "yearly_data = yearly_data.reset_index()\n",
    "\n",
    "# 3. Check yearly_data structure\n",
    "print(yearly_data.head())\n",
    "\n",
    "# 4. Save results to a new Excel file\n",
    "yearly_data.to_excel('yearly_weighted_prices.xlsx', index=False)"
   ]
  },
  {
   "cell_type": "code",
   "execution_count": 41,
   "id": "3ed09abb",
   "metadata": {},
   "outputs": [
    {
     "name": "stdout",
     "output_type": "stream",
     "text": [
      "Index(['省份', '品牌', '车型', '燃料类型', '总质量', '功率', '销量', 'year', 'type'], dtype='object')\n",
      "Index(['year', 'type', 'province', 'brand', 'model', 'fuel_type', 'mass',\n",
      "       'power', 'sales'],\n",
      "      dtype='object')\n"
     ]
    },
    {
     "ename": "KeyError",
     "evalue": "\"None of [Index(['mass', 'power'], dtype='object')] are in the [columns]\"",
     "output_type": "error",
     "traceback": [
      "\u001b[31m---------------------------------------------------------------------------\u001b[39m",
      "\u001b[31mKeyError\u001b[39m                                  Traceback (most recent call last)",
      "\u001b[36mCell\u001b[39m\u001b[36m \u001b[39m\u001b[32mIn[41]\u001b[39m\u001b[32m, line 32\u001b[39m\n\u001b[32m     29\u001b[39m sales = sales.convert_dtypes()\n\u001b[32m     31\u001b[39m \u001b[38;5;66;03m# Convert specific columns\u001b[39;00m\n\u001b[32m---> \u001b[39m\u001b[32m32\u001b[39m df[[\u001b[33m'\u001b[39m\u001b[33mmass\u001b[39m\u001b[33m'\u001b[39m, \u001b[33m'\u001b[39m\u001b[33mpower\u001b[39m\u001b[33m'\u001b[39m]] = \u001b[43mdf\u001b[49m\u001b[43m[\u001b[49m\u001b[43m[\u001b[49m\u001b[33;43m'\u001b[39;49m\u001b[33;43mmass\u001b[39;49m\u001b[33;43m'\u001b[39;49m\u001b[43m,\u001b[49m\u001b[43m \u001b[49m\u001b[33;43m'\u001b[39;49m\u001b[33;43mpower\u001b[39;49m\u001b[33;43m'\u001b[39;49m\u001b[43m]\u001b[49m\u001b[43m]\u001b[49m.astype(\u001b[33m'\u001b[39m\u001b[33mInt64\u001b[39m\u001b[33m'\u001b[39m)\n\u001b[32m     34\u001b[39m sales.dtypes\n",
      "\u001b[36mFile \u001b[39m\u001b[32mc:\\Users\\Lenovo\\Desktop\\Dissertaion\\Code\\.venv\\Lib\\site-packages\\pandas\\core\\frame.py:4113\u001b[39m, in \u001b[36mDataFrame.__getitem__\u001b[39m\u001b[34m(self, key)\u001b[39m\n\u001b[32m   4111\u001b[39m     \u001b[38;5;28;01mif\u001b[39;00m is_iterator(key):\n\u001b[32m   4112\u001b[39m         key = \u001b[38;5;28mlist\u001b[39m(key)\n\u001b[32m-> \u001b[39m\u001b[32m4113\u001b[39m     indexer = \u001b[38;5;28;43mself\u001b[39;49m\u001b[43m.\u001b[49m\u001b[43mcolumns\u001b[49m\u001b[43m.\u001b[49m\u001b[43m_get_indexer_strict\u001b[49m\u001b[43m(\u001b[49m\u001b[43mkey\u001b[49m\u001b[43m,\u001b[49m\u001b[43m \u001b[49m\u001b[33;43m\"\u001b[39;49m\u001b[33;43mcolumns\u001b[39;49m\u001b[33;43m\"\u001b[39;49m\u001b[43m)\u001b[49m[\u001b[32m1\u001b[39m]\n\u001b[32m   4115\u001b[39m \u001b[38;5;66;03m# take() does not accept boolean indexers\u001b[39;00m\n\u001b[32m   4116\u001b[39m \u001b[38;5;28;01mif\u001b[39;00m \u001b[38;5;28mgetattr\u001b[39m(indexer, \u001b[33m\"\u001b[39m\u001b[33mdtype\u001b[39m\u001b[33m\"\u001b[39m, \u001b[38;5;28;01mNone\u001b[39;00m) == \u001b[38;5;28mbool\u001b[39m:\n",
      "\u001b[36mFile \u001b[39m\u001b[32mc:\\Users\\Lenovo\\Desktop\\Dissertaion\\Code\\.venv\\Lib\\site-packages\\pandas\\core\\indexes\\base.py:6212\u001b[39m, in \u001b[36mIndex._get_indexer_strict\u001b[39m\u001b[34m(self, key, axis_name)\u001b[39m\n\u001b[32m   6209\u001b[39m \u001b[38;5;28;01melse\u001b[39;00m:\n\u001b[32m   6210\u001b[39m     keyarr, indexer, new_indexer = \u001b[38;5;28mself\u001b[39m._reindex_non_unique(keyarr)\n\u001b[32m-> \u001b[39m\u001b[32m6212\u001b[39m \u001b[38;5;28;43mself\u001b[39;49m\u001b[43m.\u001b[49m\u001b[43m_raise_if_missing\u001b[49m\u001b[43m(\u001b[49m\u001b[43mkeyarr\u001b[49m\u001b[43m,\u001b[49m\u001b[43m \u001b[49m\u001b[43mindexer\u001b[49m\u001b[43m,\u001b[49m\u001b[43m \u001b[49m\u001b[43maxis_name\u001b[49m\u001b[43m)\u001b[49m\n\u001b[32m   6214\u001b[39m keyarr = \u001b[38;5;28mself\u001b[39m.take(indexer)\n\u001b[32m   6215\u001b[39m \u001b[38;5;28;01mif\u001b[39;00m \u001b[38;5;28misinstance\u001b[39m(key, Index):\n\u001b[32m   6216\u001b[39m     \u001b[38;5;66;03m# GH 42790 - Preserve name from an Index\u001b[39;00m\n",
      "\u001b[36mFile \u001b[39m\u001b[32mc:\\Users\\Lenovo\\Desktop\\Dissertaion\\Code\\.venv\\Lib\\site-packages\\pandas\\core\\indexes\\base.py:6261\u001b[39m, in \u001b[36mIndex._raise_if_missing\u001b[39m\u001b[34m(self, key, indexer, axis_name)\u001b[39m\n\u001b[32m   6259\u001b[39m \u001b[38;5;28;01mif\u001b[39;00m nmissing:\n\u001b[32m   6260\u001b[39m     \u001b[38;5;28;01mif\u001b[39;00m nmissing == \u001b[38;5;28mlen\u001b[39m(indexer):\n\u001b[32m-> \u001b[39m\u001b[32m6261\u001b[39m         \u001b[38;5;28;01mraise\u001b[39;00m \u001b[38;5;167;01mKeyError\u001b[39;00m(\u001b[33mf\u001b[39m\u001b[33m\"\u001b[39m\u001b[33mNone of [\u001b[39m\u001b[38;5;132;01m{\u001b[39;00mkey\u001b[38;5;132;01m}\u001b[39;00m\u001b[33m] are in the [\u001b[39m\u001b[38;5;132;01m{\u001b[39;00maxis_name\u001b[38;5;132;01m}\u001b[39;00m\u001b[33m]\u001b[39m\u001b[33m\"\u001b[39m)\n\u001b[32m   6263\u001b[39m     not_found = \u001b[38;5;28mlist\u001b[39m(ensure_index(key)[missing_mask.nonzero()[\u001b[32m0\u001b[39m]].unique())\n\u001b[32m   6264\u001b[39m     \u001b[38;5;28;01mraise\u001b[39;00m \u001b[38;5;167;01mKeyError\u001b[39;00m(\u001b[33mf\u001b[39m\u001b[33m\"\u001b[39m\u001b[38;5;132;01m{\u001b[39;00mnot_found\u001b[38;5;132;01m}\u001b[39;00m\u001b[33m not in index\u001b[39m\u001b[33m\"\u001b[39m)\n",
      "\u001b[31mKeyError\u001b[39m: \"None of [Index(['mass', 'power'], dtype='object')] are in the [columns]\""
     ]
    }
   ],
   "source": [
    "# View variable names\n",
    "print(final_df.columns)\n",
    "\n",
    "# Translate variable names\n",
    "# Manual translation\n",
    "translation_map = {\n",
    "    '省份': 'province',\n",
    "    '品牌': 'brand',\n",
    "    '车型': 'model',\n",
    "    '燃料类型': 'fuel_type',\n",
    "    '功率': 'power',\n",
    "    '销量'  : 'sales',\n",
    "    '总质量': 'mass',\n",
    "}\n",
    "\n",
    "# Apply translations\n",
    "combined_df = final_df.rename(columns=translation_map)\n",
    "\n",
    "\n",
    "# Move 'year' and 'type' to the front\n",
    "cols = ['year', 'type'] + [col for col in combined_df.columns if col not in ['year', 'type']]\n",
    "sales = combined_df[cols]\n",
    "\n",
    "print(sales.columns)\n",
    "\n",
    "# Converts data types\n",
    "sales = sales.convert_dtypes()\n",
    "\n",
    "# Convert specific columns\n",
    "df[['mass', 'power']] = df[['mass', 'power']].astype('Int64')\n",
    "\n",
    "sales.dtypes"
   ]
  }
 ],
 "metadata": {
  "kernelspec": {
   "display_name": ".venv",
   "language": "python",
   "name": "python3"
  },
  "language_info": {
   "codemirror_mode": {
    "name": "ipython",
    "version": 3
   },
   "file_extension": ".py",
   "mimetype": "text/x-python",
   "name": "python",
   "nbconvert_exporter": "python",
   "pygments_lexer": "ipython3",
   "version": "3.11.9"
  }
 },
 "nbformat": 4,
 "nbformat_minor": 5
}
